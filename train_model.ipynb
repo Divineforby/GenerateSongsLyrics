{
 "cells": [
  {
   "cell_type": "code",
   "execution_count": 1,
   "metadata": {},
   "outputs": [],
   "source": [
    "from models import GenLSTM\n",
    "from dataloader import SongData\n",
    "from torch.utils.data import DataLoader\n",
    "import torch\n",
    "import numpy as np\n",
    "import pandas as pd"
   ]
  },
  {
   "cell_type": "code",
   "execution_count": 2,
   "metadata": {
    "scrolled": true
   },
   "outputs": [],
   "source": [
    "# Takes a fresh model and data set\n",
    "# Train the model and save checkpoints \n",
    "def train(model, train_set, val_set):\n",
    "    \n",
    "    # Number of maximum epochs allowed\n",
    "    maxEpochs = np.arange(50)\n",
    "    \n",
    "    # For each epoch train the model on the data\n",
    "    for e in maxEpochs:\n",
    "        pass\n",
    "    \n",
    "# Splits up full dataset to train and validation\n",
    "# Returns pytorch Dataset of splits\n",
    "def data_split(data):\n",
    "    \n",
    "    # Sample 10% from the dataset for validation\n",
    "    val = data.sample(frac = .01)\n",
    "    \n",
    "    # Remove the sampled rows from the original\n",
    "    train = data.drop(val.index)\n",
    "    \n",
    "    # Reset both indices for uniformity\n",
    "    val = val.reset_index(drop=True)\n",
    "    train = train.reset_index(drop=True)\n",
    "    \n",
    "    # Make song datasets from both dataframes\n",
    "    val_set = SongData(val)\n",
    "    train_set = SongData(train)\n",
    "    \n",
    "    return train_set, val_set\n",
    "    \n",
    "    \n",
    "    \n",
    "# Entry point\n",
    "if __name__ == \"__main__\":\n",
    "    \n",
    "    # Read in data and create train_val split\n",
    "    data = pd.read_csv('songdata.csv')\n",
    "    \n",
    "    # Split data to training and validation set\n",
    "    train_set, val_set = data_split(data)\n",
    "    \n",
    "    # Make fresh model to train\n",
    "    # Both input and output are size of possible characters\n",
    "    # We are inputting characters at t and asking to predict character t+1 \n",
    "    model = GenLSTM(input_size = len(train_set.encode), output_size = len(train_set.encode) )\n",
    "    \n",
    "    # Train the model\n",
    "    train(model, train_set, val_set)\n",
    "    \n",
    "    "
   ]
  }
 ],
 "metadata": {
  "kernelspec": {
   "display_name": "Python [conda env:ptorch]",
   "language": "python",
   "name": "conda-env-ptorch-py"
  },
  "language_info": {
   "codemirror_mode": {
    "name": "ipython",
    "version": 3
   },
   "file_extension": ".py",
   "mimetype": "text/x-python",
   "name": "python",
   "nbconvert_exporter": "python",
   "pygments_lexer": "ipython3",
   "version": "3.6.7"
  }
 },
 "nbformat": 4,
 "nbformat_minor": 2
}
