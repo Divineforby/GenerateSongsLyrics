{
 "cells": [
  {
   "cell_type": "code",
   "execution_count": 87,
   "metadata": {},
   "outputs": [],
   "source": [
    "import torch"
   ]
  },
  {
   "cell_type": "code",
   "execution_count": 100,
   "metadata": {},
   "outputs": [],
   "source": [
    "\n",
    "# Define the LSTM \n",
    "class GenLSTM(torch.nn.Module):\n",
    "    \n",
    "    # Initialize the LSTM \n",
    "    def __init__(self, LSTM_in, LSTM_out, numClasses, LSTMLayers, drop_out, bidirection = False):\n",
    "        super(GenLSTM, self).__init__()\n",
    "        \n",
    "        # LSTM Layer(s) that map the input to hidden layers \n",
    "        self.LSTM = torch.nn.LSTM(input_size = LSTM_in, hidden_size = LSTM_out, \n",
    "                                  num_layers = LSTMLayers, dropout = drop_out,\n",
    "                                  bidirectional = bidirection, batch_first=True)\n",
    "        \n",
    "        # Final Fully connected layer to map the output of LSTM to the number of classes\n",
    "        self.FC = torch.nn.Linear(in_features = LSTM_out, out_features = numClasses)\n",
    "        \n",
    "        # For each layer in the LSTM initialize the weights \n",
    "        for param in self.LSTM.named_parameters():\n",
    "            if ( 'weight' in param[0] ):\n",
    "                torch.nn.init.xavier_normal_(param[1])\n",
    "                \n",
    "        # Init fully connected layer\n",
    "        torch.nn.init.xavier_normal_(self.FC.weight)\n",
    "        \n",
    "    # Define the forward pass    \n",
    "    def forward(self, x):\n",
    "        \n",
    "        out = self.LSTM(x)\n",
    "        out = self.FC(out)\n",
    "        \n",
    "        return out\n",
    "        "
   ]
  }
 ],
 "metadata": {
  "kernelspec": {
   "display_name": "Python [conda env:ptorch]",
   "language": "python",
   "name": "conda-env-ptorch-py"
  },
  "language_info": {
   "codemirror_mode": {
    "name": "ipython",
    "version": 3
   },
   "file_extension": ".py",
   "mimetype": "text/x-python",
   "name": "python",
   "nbconvert_exporter": "python",
   "pygments_lexer": "ipython3",
   "version": "3.6.7"
  }
 },
 "nbformat": 4,
 "nbformat_minor": 2
}
