{
 "cells": [
  {
   "cell_type": "code",
   "execution_count": 87,
   "metadata": {},
   "outputs": [],
   "source": [
    "import torch"
   ]
  },
  {
   "cell_type": "code",
   "execution_count": 95,
   "metadata": {},
   "outputs": [],
   "source": [
    "\n",
    "# Define the LSTM \n",
    "class GenLSTM(torch.nn.Module):\n",
    "    \n",
    "    # Initialize the LSTM \n",
    "    def __init__(self, LSTM_in, LSTM_out, numClasses, LSTMLayers, drop_out, bidirection = False):\n",
    "        super(GenLSTM, self).__init__()\n",
    "        \n",
    "        # LSTM Layer(s) that map the input to hidden layers \n",
    "        self.LSTM = torch.nn.LSTM(input_size = LSTM_in, hidden_size = LSTM_out, \n",
    "                                  num_layers = LSTMLayers, dropout = drop_out,\n",
    "                                  bidirectional = bidirection, batch_first=True)\n",
    "        \n",
    "        # Final Fully connected layer to map the output of LSTM to the number of classes\n",
    "        self.FC = torch.nn.Linear(in_features = LSTM_out, out_features = numClasses)\n",
    "        \n",
    "        # For each layer in the LSTM initialize the weights \n",
    "        for param in self.LSTM.named_parameters():\n",
    "            if ( 'weight' in param[0] ):\n",
    "                torch.nn.init.xavier_normal_(param)\n",
    "                \n",
    "        # Init fully connected layer\n",
    "        torch.nn.init.xavier_normal_(self.FC.weight)\n",
    "        \n",
    "    # Define the forward pass    \n",
    "    def forward(self, x):\n",
    "        \n",
    "        out = self.LSTM(x)\n",
    "        out = self.FC(out)\n",
    "        \n",
    "        return out\n",
    "        "
   ]
  },
  {
   "cell_type": "code",
   "execution_count": 97,
   "metadata": {},
   "outputs": [
    {
     "ename": "AttributeError",
     "evalue": "cannot assign module before Module.__init__() call",
     "output_type": "error",
     "traceback": [
      "\u001b[1;31m---------------------------------------------------------------------------\u001b[0m",
      "\u001b[1;31mAttributeError\u001b[0m                            Traceback (most recent call last)",
      "\u001b[1;32m<ipython-input-97-1dc43c94bd2e>\u001b[0m in \u001b[0;36m<module>\u001b[1;34m\u001b[0m\n\u001b[1;32m----> 1\u001b[1;33m \u001b[0mGenLSTM\u001b[0m\u001b[1;33m(\u001b[0m\u001b[0mLSTM_in\u001b[0m\u001b[1;33m=\u001b[0m\u001b[1;36m1\u001b[0m\u001b[1;33m,\u001b[0m \u001b[0mLSTM_out\u001b[0m\u001b[1;33m=\u001b[0m\u001b[1;36m2\u001b[0m\u001b[1;33m,\u001b[0m \u001b[0mnumClasses\u001b[0m\u001b[1;33m=\u001b[0m\u001b[1;36m3\u001b[0m\u001b[1;33m,\u001b[0m \u001b[0mdrop_out\u001b[0m\u001b[1;33m=\u001b[0m\u001b[1;36m0\u001b[0m\u001b[1;33m,\u001b[0m \u001b[0mLSTMLayers\u001b[0m\u001b[1;33m=\u001b[0m\u001b[1;36m1\u001b[0m\u001b[1;33m)\u001b[0m\u001b[1;33m\u001b[0m\u001b[1;33m\u001b[0m\u001b[0m\n\u001b[0m",
      "\u001b[1;32m<ipython-input-95-bef05aa41c1e>\u001b[0m in \u001b[0;36m__init__\u001b[1;34m(self, LSTM_in, LSTM_out, numClasses, LSTMLayers, drop_out, bidirection)\u001b[0m\n\u001b[0;32m      9\u001b[0m         self.LSTM = torch.nn.LSTM(input_size = LSTM_in, hidden_size = LSTM_out, \n\u001b[0;32m     10\u001b[0m                                   \u001b[0mnum_layers\u001b[0m \u001b[1;33m=\u001b[0m \u001b[0mLSTMLayers\u001b[0m\u001b[1;33m,\u001b[0m \u001b[0mdropout\u001b[0m \u001b[1;33m=\u001b[0m \u001b[0mdrop_out\u001b[0m\u001b[1;33m,\u001b[0m\u001b[1;33m\u001b[0m\u001b[1;33m\u001b[0m\u001b[0m\n\u001b[1;32m---> 11\u001b[1;33m                                   bidirectional = bidirection, batch_first=True)\n\u001b[0m\u001b[0;32m     12\u001b[0m \u001b[1;33m\u001b[0m\u001b[0m\n\u001b[0;32m     13\u001b[0m         \u001b[1;31m# Final Fully connected layer to map the output of LSTM to the number of classes\u001b[0m\u001b[1;33m\u001b[0m\u001b[1;33m\u001b[0m\u001b[1;33m\u001b[0m\u001b[0m\n",
      "\u001b[1;32mD:\\Anaconda\\envs\\ptorch\\lib\\site-packages\\torch\\nn\\modules\\module.py\u001b[0m in \u001b[0;36m__setattr__\u001b[1;34m(self, name, value)\u001b[0m\n\u001b[0;32m    556\u001b[0m                 \u001b[1;32mif\u001b[0m \u001b[0mmodules\u001b[0m \u001b[1;32mis\u001b[0m \u001b[1;32mNone\u001b[0m\u001b[1;33m:\u001b[0m\u001b[1;33m\u001b[0m\u001b[1;33m\u001b[0m\u001b[0m\n\u001b[0;32m    557\u001b[0m                     raise AttributeError(\n\u001b[1;32m--> 558\u001b[1;33m                         \"cannot assign module before Module.__init__() call\")\n\u001b[0m\u001b[0;32m    559\u001b[0m                 \u001b[0mremove_from\u001b[0m\u001b[1;33m(\u001b[0m\u001b[0mself\u001b[0m\u001b[1;33m.\u001b[0m\u001b[0m__dict__\u001b[0m\u001b[1;33m,\u001b[0m \u001b[0mself\u001b[0m\u001b[1;33m.\u001b[0m\u001b[0m_parameters\u001b[0m\u001b[1;33m,\u001b[0m \u001b[0mself\u001b[0m\u001b[1;33m.\u001b[0m\u001b[0m_buffers\u001b[0m\u001b[1;33m)\u001b[0m\u001b[1;33m\u001b[0m\u001b[1;33m\u001b[0m\u001b[0m\n\u001b[0;32m    560\u001b[0m                 \u001b[0mmodules\u001b[0m\u001b[1;33m[\u001b[0m\u001b[0mname\u001b[0m\u001b[1;33m]\u001b[0m \u001b[1;33m=\u001b[0m \u001b[0mvalue\u001b[0m\u001b[1;33m\u001b[0m\u001b[1;33m\u001b[0m\u001b[0m\n",
      "\u001b[1;31mAttributeError\u001b[0m: cannot assign module before Module.__init__() call"
     ]
    }
   ],
   "source": []
  }
 ],
 "metadata": {
  "kernelspec": {
   "display_name": "Python [conda env:ptorch]",
   "language": "python",
   "name": "conda-env-ptorch-py"
  },
  "language_info": {
   "codemirror_mode": {
    "name": "ipython",
    "version": 3
   },
   "file_extension": ".py",
   "mimetype": "text/x-python",
   "name": "python",
   "nbconvert_exporter": "python",
   "pygments_lexer": "ipython3",
   "version": "3.6.7"
  }
 },
 "nbformat": 4,
 "nbformat_minor": 2
}
